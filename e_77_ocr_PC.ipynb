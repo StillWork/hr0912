{
 "cells": [
  {
   "cell_type": "code",
   "execution_count": 2,
   "id": "11004065",
   "metadata": {
    "scrolled": true
   },
   "outputs": [
    {
     "name": "stdout",
     "output_type": "stream",
     "text": [
      "Requirement already satisfied: pytesseract in c:\\users\\user\\anaconda3\\lib\\site-packages (0.3.10)\n",
      "Requirement already satisfied: packaging>=21.3 in c:\\users\\user\\anaconda3\\lib\\site-packages (from pytesseract) (23.0)\n",
      "Requirement already satisfied: Pillow>=8.0.0 in c:\\users\\user\\anaconda3\\lib\\site-packages (from pytesseract) (9.4.0)\n",
      "영양정보 충48839000'\n",
      "나6롱507030]8수하물50 24| 당류509& | 8:\n",
      "\n",
      "6란스방06 | 포방250178. | 33새롤10\n",
      "다백질3058 | 칼숨1000014&\n",
      "1일영잉성부 7순#이따한율은 20003 710192거인의필0 열려 따과를수 있습니다\n",
      "\n",
      "\n"
     ]
    }
   ],
   "source": [
    "from PIL import Image\n",
    "!pip install pytesseract\n",
    "import pytesseract\n",
    "pytesseract.pytesseract.tesseract_cmd = r'C:\\Users\\User\\AppData\\Local\\tesseract.exe'\n",
    "print(pytesseract.image_to_string(Image.open('20170622_221251.jpg'), lang='kor'))"
   ]
  },
  {
   "cell_type": "code",
   "execution_count": null,
   "id": "95091092",
   "metadata": {},
   "outputs": [],
   "source": []
  }
 ],
 "metadata": {
  "kernelspec": {
   "display_name": "Python 3 (ipykernel)",
   "language": "python",
   "name": "python3"
  },
  "language_info": {
   "codemirror_mode": {
    "name": "ipython",
    "version": 3
   },
   "file_extension": ".py",
   "mimetype": "text/x-python",
   "name": "python",
   "nbconvert_exporter": "python",
   "pygments_lexer": "ipython3",
   "version": "3.11.4"
  },
  "toc": {
   "base_numbering": 1,
   "nav_menu": {},
   "number_sections": false,
   "sideBar": true,
   "skip_h1_title": false,
   "title_cell": "Table of Contents",
   "title_sidebar": "Contents",
   "toc_cell": false,
   "toc_position": {},
   "toc_section_display": true,
   "toc_window_display": false
  }
 },
 "nbformat": 4,
 "nbformat_minor": 5
}
